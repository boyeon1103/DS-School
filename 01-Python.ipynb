{
 "cells": [
  {
   "cell_type": "markdown",
   "id": "015c7376",
   "metadata": {},
   "source": [
    "# 01. 연산자"
   ]
  },
  {
   "cell_type": "code",
   "execution_count": 4,
   "id": "0eb05760",
   "metadata": {},
   "outputs": [
    {
     "data": {
      "text/plain": [
       "2"
      ]
     },
     "execution_count": 4,
     "metadata": {},
     "output_type": "execute_result"
    }
   ],
   "source": [
    "# 덧셈\n",
    "1+1"
   ]
  },
  {
   "cell_type": "code",
   "execution_count": 6,
   "id": "053c0c7e",
   "metadata": {},
   "outputs": [
    {
     "data": {
      "text/plain": [
       "21"
      ]
     },
     "execution_count": 6,
     "metadata": {},
     "output_type": "execute_result"
    }
   ],
   "source": [
    "# 뺄셈\n",
    "7 * 3"
   ]
  },
  {
   "cell_type": "code",
   "execution_count": 12,
   "id": "a7b61ea5",
   "metadata": {},
   "outputs": [
    {
     "data": {
      "text/plain": [
       "2.5"
      ]
     },
     "execution_count": 12,
     "metadata": {},
     "output_type": "execute_result"
    }
   ],
   "source": [
    "# 나누기\n",
    "5 / 2"
   ]
  },
  {
   "cell_type": "code",
   "execution_count": 13,
   "id": "c454995a",
   "metadata": {},
   "outputs": [
    {
     "data": {
      "text/plain": [
       "3"
      ]
     },
     "execution_count": 13,
     "metadata": {},
     "output_type": "execute_result"
    }
   ],
   "source": [
    "# 나머지 연산자\n",
    "13 % 5"
   ]
  },
  {
   "cell_type": "code",
   "execution_count": 14,
   "id": "6871cc2f",
   "metadata": {},
   "outputs": [
    {
     "data": {
      "text/plain": [
       "True"
      ]
     },
     "execution_count": 14,
     "metadata": {},
     "output_type": "execute_result"
    }
   ],
   "source": [
    "# 비교 연산자\n",
    "# == True, != 서로 달라야 True\n",
    "\n",
    "1 + 2 == 3"
   ]
  },
  {
   "cell_type": "code",
   "execution_count": 19,
   "id": "086e00e6",
   "metadata": {},
   "outputs": [
    {
     "data": {
      "text/plain": [
       "True"
      ]
     },
     "execution_count": 19,
     "metadata": {},
     "output_type": "execute_result"
    }
   ],
   "source": [
    "# 비교 연산자\n",
    "# != 서로 달라야 True\n",
    "1+3 != 5"
   ]
  },
  {
   "cell_type": "code",
   "execution_count": 21,
   "id": "9d0a65aa",
   "metadata": {},
   "outputs": [
    {
     "data": {
      "text/plain": [
       "True"
      ]
     },
     "execution_count": 21,
     "metadata": {},
     "output_type": "execute_result"
    }
   ],
   "source": [
    "# 크고 작음을 비교\n",
    "1 + 2 < 4"
   ]
  },
  {
   "cell_type": "code",
   "execution_count": 22,
   "id": "aebc92ed",
   "metadata": {},
   "outputs": [
    {
     "data": {
      "text/plain": [
       "True"
      ]
     },
     "execution_count": 22,
     "metadata": {},
     "output_type": "execute_result"
    }
   ],
   "source": [
    "1 + 2 >= 3"
   ]
  },
  {
   "cell_type": "code",
   "execution_count": 23,
   "id": "3fdba8c1",
   "metadata": {},
   "outputs": [
    {
     "data": {
      "text/plain": [
       "True"
      ]
     },
     "execution_count": 23,
     "metadata": {},
     "output_type": "execute_result"
    }
   ],
   "source": [
    "1 + 2 <= 3"
   ]
  },
  {
   "cell_type": "code",
   "execution_count": 25,
   "id": "166b2390",
   "metadata": {
    "scrolled": true
   },
   "outputs": [
    {
     "data": {
      "text/plain": [
       "True"
      ]
     },
     "execution_count": 25,
     "metadata": {},
     "output_type": "execute_result"
    }
   ],
   "source": [
    "# 홀수와 짝수를 비교하는 코드 1\n",
    "10 % 2 == 0"
   ]
  },
  {
   "cell_type": "code",
   "execution_count": 26,
   "id": "f7f2413d",
   "metadata": {},
   "outputs": [
    {
     "data": {
      "text/plain": [
       "False"
      ]
     },
     "execution_count": 26,
     "metadata": {},
     "output_type": "execute_result"
    }
   ],
   "source": [
    "# 홀수와 짝수를 비교하는 코드 2\n",
    "11 % 2 == 0"
   ]
  },
  {
   "cell_type": "code",
   "execution_count": 28,
   "id": "34aef599",
   "metadata": {},
   "outputs": [
    {
     "data": {
      "text/plain": [
       "True"
      ]
     },
     "execution_count": 28,
     "metadata": {},
     "output_type": "execute_result"
    }
   ],
   "source": [
    "# and로 조건부 추가 (모두 만족 시키는 조건)\n",
    "12 % 2 == 0 and 12 % 3 ==0"
   ]
  },
  {
   "cell_type": "code",
   "execution_count": 30,
   "id": "39ae753c",
   "metadata": {},
   "outputs": [
    {
     "data": {
      "text/plain": [
       "True"
      ]
     },
     "execution_count": 30,
     "metadata": {},
     "output_type": "execute_result"
    }
   ],
   "source": [
    "# or로 조건부 추가 (두조건 중 한개만 만족 시키는 조건)\n",
    "12 % 2 == 0 or 12 % 3 ==0"
   ]
  },
  {
   "cell_type": "markdown",
   "id": "a87734f2",
   "metadata": {},
   "source": [
    "# 02.변수"
   ]
  },
  {
   "cell_type": "code",
   "execution_count": 33,
   "id": "65f3788d",
   "metadata": {},
   "outputs": [
    {
     "data": {
      "text/plain": [
       "8"
      ]
     },
     "execution_count": 33,
     "metadata": {},
     "output_type": "execute_result"
    }
   ],
   "source": [
    "# 맞고틀림을 확인할때는 등호 2개 ==, 변수에 값을 부여할때는 등호 1개\n",
    "\n",
    "a = 3\n",
    "b = 5\n",
    "\n",
    "a + b"
   ]
  },
  {
   "cell_type": "code",
   "execution_count": 32,
   "id": "c170fa00",
   "metadata": {},
   "outputs": [
    {
     "data": {
      "text/plain": [
       "16"
      ]
     },
     "execution_count": 32,
     "metadata": {},
     "output_type": "execute_result"
    }
   ],
   "source": [
    "a = 3\n",
    "b = 13\n",
    "\n",
    "a + b"
   ]
  },
  {
   "cell_type": "code",
   "execution_count": 42,
   "id": "cd090886",
   "metadata": {},
   "outputs": [
    {
     "name": "stdout",
     "output_type": "stream",
     "text": [
      "8\n"
     ]
    },
    {
     "data": {
      "text/plain": [
       "9"
      ]
     },
     "execution_count": 42,
     "metadata": {},
     "output_type": "execute_result"
    }
   ],
   "source": [
    "# 셀의 마지막것만 출력한다\n",
    "# 중간도 출력하고 싶다면? print(a) 로 감싸주면 출력 가능\n",
    "\n",
    "a = 3\n",
    "a = a + 5\n",
    "\n",
    "print(a)\n",
    "\n",
    "a = a + 1\n",
    "a\n"
   ]
  },
  {
   "cell_type": "markdown",
   "id": "0d83f782",
   "metadata": {},
   "source": [
    "# 03.문자열"
   ]
  },
  {
   "cell_type": "code",
   "execution_count": null,
   "id": "883f8512",
   "metadata": {},
   "outputs": [],
   "source": [
    "# int == integer == 정수형\n",
    "# str == string == 문자열"
   ]
  },
  {
   "cell_type": "code",
   "execution_count": 50,
   "id": "f185993a",
   "metadata": {},
   "outputs": [
    {
     "data": {
      "text/plain": [
       "'Hello World!'"
      ]
     },
     "execution_count": 50,
     "metadata": {},
     "output_type": "execute_result"
    }
   ],
   "source": [
    "\"Hello World!\""
   ]
  },
  {
   "cell_type": "code",
   "execution_count": 49,
   "id": "74b81b29",
   "metadata": {},
   "outputs": [
    {
     "data": {
      "text/plain": [
       "'Hello World!'"
      ]
     },
     "execution_count": 49,
     "metadata": {},
     "output_type": "execute_result"
    }
   ],
   "source": [
    "'Hello World!'"
   ]
  },
  {
   "cell_type": "code",
   "execution_count": 43,
   "id": "0967978e",
   "metadata": {},
   "outputs": [
    {
     "name": "stdout",
     "output_type": "stream",
     "text": [
      "Hello World!\n"
     ]
    }
   ],
   "source": [
    "print(\"Hello World!\")"
   ]
  },
  {
   "cell_type": "code",
   "execution_count": 47,
   "id": "3796aaef",
   "metadata": {},
   "outputs": [
    {
     "data": {
      "text/plain": [
       "'a'"
      ]
     },
     "execution_count": 47,
     "metadata": {},
     "output_type": "execute_result"
    }
   ],
   "source": [
    "\"a\""
   ]
  },
  {
   "cell_type": "code",
   "execution_count": 48,
   "id": "8c513a81",
   "metadata": {},
   "outputs": [
    {
     "data": {
      "text/plain": [
       "9"
      ]
     },
     "execution_count": 48,
     "metadata": {},
     "output_type": "execute_result"
    }
   ],
   "source": [
    "a"
   ]
  },
  {
   "cell_type": "code",
   "execution_count": 52,
   "id": "02d5e875",
   "metadata": {},
   "outputs": [
    {
     "data": {
      "text/plain": [
       "\"boyeon's weight?\""
      ]
     },
     "execution_count": 52,
     "metadata": {},
     "output_type": "execute_result"
    }
   ],
   "source": [
    "# 홑따옴표, 쌍따옴표 모두 가능한 경우는 중복으로 사용하기 위해 ex. \"boyeon's weight?\" > 가능 / 'boyeon's weight?'> 오류 \n",
    "\"boyeon's weight?\""
   ]
  },
  {
   "cell_type": "code",
   "execution_count": 53,
   "id": "bf42423c",
   "metadata": {},
   "outputs": [
    {
     "data": {
      "text/plain": [
       "True"
      ]
     },
     "execution_count": 53,
     "metadata": {},
     "output_type": "execute_result"
    }
   ],
   "source": [
    "\"C\" == \"C\""
   ]
  },
  {
   "cell_type": "code",
   "execution_count": 54,
   "id": "d3e6ea36",
   "metadata": {},
   "outputs": [
    {
     "data": {
      "text/plain": [
       "False"
      ]
     },
     "execution_count": 54,
     "metadata": {},
     "output_type": "execute_result"
    }
   ],
   "source": [
    "\"C\" == \"c\""
   ]
  },
  {
   "cell_type": "code",
   "execution_count": 55,
   "id": "16ee8ceb",
   "metadata": {},
   "outputs": [
    {
     "data": {
      "text/plain": [
       "True"
      ]
     },
     "execution_count": 55,
     "metadata": {},
     "output_type": "execute_result"
    }
   ],
   "source": [
    "1 == 1"
   ]
  },
  {
   "cell_type": "code",
   "execution_count": 56,
   "id": "229b13c6",
   "metadata": {},
   "outputs": [
    {
     "data": {
      "text/plain": [
       "False"
      ]
     },
     "execution_count": 56,
     "metadata": {},
     "output_type": "execute_result"
    }
   ],
   "source": [
    "1 == \"1\""
   ]
  },
  {
   "cell_type": "code",
   "execution_count": 57,
   "id": "c0b91a67",
   "metadata": {},
   "outputs": [
    {
     "data": {
      "text/plain": [
       "3"
      ]
     },
     "execution_count": 57,
     "metadata": {},
     "output_type": "execute_result"
    }
   ],
   "source": [
    "1 + 2"
   ]
  },
  {
   "cell_type": "code",
   "execution_count": 58,
   "id": "e28ed120",
   "metadata": {},
   "outputs": [
    {
     "data": {
      "text/plain": [
       "'12'"
      ]
     },
     "execution_count": 58,
     "metadata": {},
     "output_type": "execute_result"
    }
   ],
   "source": [
    "\"1\" + \"2\""
   ]
  },
  {
   "cell_type": "markdown",
   "id": "856600e1",
   "metadata": {},
   "source": [
    "# 04.불(bool) : 참/거짓"
   ]
  },
  {
   "cell_type": "code",
   "execution_count": 60,
   "id": "11e357b8",
   "metadata": {},
   "outputs": [
    {
     "data": {
      "text/plain": [
       "True"
      ]
     },
     "execution_count": 60,
     "metadata": {},
     "output_type": "execute_result"
    }
   ],
   "source": [
    "True"
   ]
  },
  {
   "cell_type": "code",
   "execution_count": 61,
   "id": "1747df7c",
   "metadata": {},
   "outputs": [
    {
     "data": {
      "text/plain": [
       "False"
      ]
     },
     "execution_count": 61,
     "metadata": {},
     "output_type": "execute_result"
    }
   ],
   "source": [
    "False"
   ]
  },
  {
   "cell_type": "code",
   "execution_count": 62,
   "id": "0a6cb2ae",
   "metadata": {},
   "outputs": [],
   "source": [
    "#파이썬은 대소문자 구분, int/str의 구분을 정확하게 해야한다!"
   ]
  },
  {
   "cell_type": "code",
   "execution_count": 63,
   "id": "f7258aa6",
   "metadata": {},
   "outputs": [
    {
     "data": {
      "text/plain": [
       "True"
      ]
     },
     "execution_count": 63,
     "metadata": {},
     "output_type": "execute_result"
    }
   ],
   "source": [
    " True == 1"
   ]
  },
  {
   "cell_type": "code",
   "execution_count": 64,
   "id": "2850393b",
   "metadata": {},
   "outputs": [
    {
     "data": {
      "text/plain": [
       "True"
      ]
     },
     "execution_count": 64,
     "metadata": {},
     "output_type": "execute_result"
    }
   ],
   "source": [
    "False == 0"
   ]
  },
  {
   "cell_type": "code",
   "execution_count": 67,
   "id": "82602cad",
   "metadata": {},
   "outputs": [],
   "source": [
    "# 소문자로만 쓰는 경우 오류 > true"
   ]
  },
  {
   "cell_type": "code",
   "execution_count": 68,
   "id": "9f4bcb0e",
   "metadata": {},
   "outputs": [],
   "source": [
    "# 대문자로만 쓰는 경우 오류 > TRUE"
   ]
  },
  {
   "cell_type": "code",
   "execution_count": 69,
   "id": "f690e8b6",
   "metadata": {},
   "outputs": [
    {
     "data": {
      "text/plain": [
       "True"
      ]
     },
     "execution_count": 69,
     "metadata": {},
     "output_type": "execute_result"
    }
   ],
   "source": [
    "True == True"
   ]
  },
  {
   "cell_type": "code",
   "execution_count": 70,
   "id": "5c3cf955",
   "metadata": {},
   "outputs": [
    {
     "data": {
      "text/plain": [
       "False"
      ]
     },
     "execution_count": 70,
     "metadata": {},
     "output_type": "execute_result"
    }
   ],
   "source": [
    "True == False"
   ]
  },
  {
   "cell_type": "code",
   "execution_count": 71,
   "id": "f1e7e888",
   "metadata": {},
   "outputs": [],
   "source": [
    "# 명시적이지 않은 코드를 짜면 문제가 생김"
   ]
  },
  {
   "cell_type": "markdown",
   "id": "398929da",
   "metadata": {},
   "source": [
    "# 05. 문자열(심화)"
   ]
  },
  {
   "cell_type": "code",
   "execution_count": 72,
   "id": "d49bcfe4",
   "metadata": {},
   "outputs": [
    {
     "data": {
      "text/plain": [
       "'Hello World!'"
      ]
     },
     "execution_count": 72,
     "metadata": {},
     "output_type": "execute_result"
    }
   ],
   "source": [
    "message =  \"Hello World!\"\n",
    "message"
   ]
  },
  {
   "cell_type": "code",
   "execution_count": 73,
   "id": "a81845fe",
   "metadata": {},
   "outputs": [
    {
     "data": {
      "text/plain": [
       "'H'"
      ]
     },
     "execution_count": 73,
     "metadata": {},
     "output_type": "execute_result"
    }
   ],
   "source": [
    "message[0]"
   ]
  },
  {
   "cell_type": "code",
   "execution_count": 74,
   "id": "626b24a8",
   "metadata": {},
   "outputs": [
    {
     "data": {
      "text/plain": [
       "'l'"
      ]
     },
     "execution_count": 74,
     "metadata": {},
     "output_type": "execute_result"
    }
   ],
   "source": [
    "message[2]"
   ]
  },
  {
   "cell_type": "code",
   "execution_count": 75,
   "id": "45d42743",
   "metadata": {},
   "outputs": [
    {
     "data": {
      "text/plain": [
       "'!'"
      ]
     },
     "execution_count": 75,
     "metadata": {},
     "output_type": "execute_result"
    }
   ],
   "source": [
    "message[-1]"
   ]
  },
  {
   "cell_type": "code",
   "execution_count": 76,
   "id": "fea8b408",
   "metadata": {},
   "outputs": [
    {
     "data": {
      "text/plain": [
       "'d'"
      ]
     },
     "execution_count": 76,
     "metadata": {},
     "output_type": "execute_result"
    }
   ],
   "source": [
    "message[-2]"
   ]
  },
  {
   "cell_type": "code",
   "execution_count": 77,
   "id": "f0266836",
   "metadata": {},
   "outputs": [],
   "source": [
    "# []대괄호로 문자열의 순서를 선택할 수 있음"
   ]
  },
  {
   "cell_type": "code",
   "execution_count": 78,
   "id": "c738dafb",
   "metadata": {},
   "outputs": [],
   "source": [
    "# 검색/색인, 리스트문법 > 대괄호 // 나머지는 소괄호"
   ]
  },
  {
   "cell_type": "code",
   "execution_count": 79,
   "id": "c171ca29",
   "metadata": {},
   "outputs": [
    {
     "data": {
      "text/plain": [
       "True"
      ]
     },
     "execution_count": 79,
     "metadata": {},
     "output_type": "execute_result"
    }
   ],
   "source": [
    "\"H\" in message"
   ]
  },
  {
   "cell_type": "code",
   "execution_count": 80,
   "id": "74e8b8d1",
   "metadata": {},
   "outputs": [
    {
     "data": {
      "text/plain": [
       "False"
      ]
     },
     "execution_count": 80,
     "metadata": {},
     "output_type": "execute_result"
    }
   ],
   "source": [
    "\"h\" in message"
   ]
  },
  {
   "cell_type": "code",
   "execution_count": 81,
   "id": "22d2915a",
   "metadata": {},
   "outputs": [
    {
     "data": {
      "text/plain": [
       "True"
      ]
     },
     "execution_count": 81,
     "metadata": {},
     "output_type": "execute_result"
    }
   ],
   "source": [
    "\"Hell\" in message"
   ]
  },
  {
   "cell_type": "markdown",
   "id": "17269243",
   "metadata": {},
   "source": [
    "# 06.메소드(Method)"
   ]
  },
  {
   "cell_type": "code",
   "execution_count": 82,
   "id": "a1ba8650",
   "metadata": {},
   "outputs": [
    {
     "data": {
      "text/plain": [
       "2"
      ]
     },
     "execution_count": 82,
     "metadata": {},
     "output_type": "execute_result"
    }
   ],
   "source": [
    "message.count(\"o\")"
   ]
  },
  {
   "cell_type": "code",
   "execution_count": 83,
   "id": "b7419070",
   "metadata": {},
   "outputs": [
    {
     "data": {
      "text/plain": [
       "'Jello World!'"
      ]
     },
     "execution_count": 83,
     "metadata": {},
     "output_type": "execute_result"
    }
   ],
   "source": [
    "message.replace(\"H\", \"J\")"
   ]
  },
  {
   "cell_type": "markdown",
   "id": "b39285f1",
   "metadata": {},
   "source": [
    "# 07.리스트"
   ]
  },
  {
   "cell_type": "code",
   "execution_count": 84,
   "id": "b70ed174",
   "metadata": {},
   "outputs": [],
   "source": [
    "odd = [1, 3, 5, 7, 9]"
   ]
  },
  {
   "cell_type": "code",
   "execution_count": 85,
   "id": "76da0fba",
   "metadata": {},
   "outputs": [
    {
     "data": {
      "text/plain": [
       "[1, 3, 5, 7, 9]"
      ]
     },
     "execution_count": 85,
     "metadata": {},
     "output_type": "execute_result"
    }
   ],
   "source": [
    "odd"
   ]
  },
  {
   "cell_type": "code",
   "execution_count": 86,
   "id": "52de9da9",
   "metadata": {},
   "outputs": [
    {
     "data": {
      "text/plain": [
       "1"
      ]
     },
     "execution_count": 86,
     "metadata": {},
     "output_type": "execute_result"
    }
   ],
   "source": [
    "odd[0]"
   ]
  },
  {
   "cell_type": "code",
   "execution_count": 87,
   "id": "68d93fd4",
   "metadata": {},
   "outputs": [
    {
     "data": {
      "text/plain": [
       "True"
      ]
     },
     "execution_count": 87,
     "metadata": {},
     "output_type": "execute_result"
    }
   ],
   "source": [
    "1 in odd"
   ]
  },
  {
   "cell_type": "code",
   "execution_count": 88,
   "id": "fcd866f4",
   "metadata": {},
   "outputs": [
    {
     "data": {
      "text/plain": [
       "False"
      ]
     },
     "execution_count": 88,
     "metadata": {},
     "output_type": "execute_result"
    }
   ],
   "source": [
    "2 in odd"
   ]
  },
  {
   "cell_type": "code",
   "execution_count": 89,
   "id": "ca62b9e2",
   "metadata": {},
   "outputs": [
    {
     "data": {
      "text/plain": [
       "True"
      ]
     },
     "execution_count": 89,
     "metadata": {},
     "output_type": "execute_result"
    }
   ],
   "source": [
    "3 in odd"
   ]
  },
  {
   "cell_type": "code",
   "execution_count": 95,
   "id": "92d14280",
   "metadata": {},
   "outputs": [
    {
     "data": {
      "text/plain": [
       "[1, 3, 5, 7, 9, 11, 11, 11, 11, 11]"
      ]
     },
     "execution_count": 95,
     "metadata": {},
     "output_type": "execute_result"
    }
   ],
   "source": [
    "# 리스트의 값 추가\n",
    "odd.append(11)\n",
    "odd"
   ]
  },
  {
   "cell_type": "code",
   "execution_count": 101,
   "id": "4f46edfc",
   "metadata": {},
   "outputs": [
    {
     "data": {
      "text/plain": [
       "[11, 11, 11, 9, 7, 5, 3]"
      ]
     },
     "execution_count": 101,
     "metadata": {},
     "output_type": "execute_result"
    }
   ],
   "source": [
    "# 리스트의 값 삭제\n",
    "odd.pop()\n",
    "odd"
   ]
  },
  {
   "cell_type": "code",
   "execution_count": 103,
   "id": "961f1a1d",
   "metadata": {},
   "outputs": [
    {
     "data": {
      "text/plain": [
       "[11, 11, 11, 9, 7, 5, 3]"
      ]
     },
     "execution_count": 103,
     "metadata": {},
     "output_type": "execute_result"
    }
   ],
   "source": [
    "# 리스트의 값을 뒤집기\n",
    "odd.reverse()\n",
    "odd"
   ]
  },
  {
   "cell_type": "code",
   "execution_count": 104,
   "id": "02ea7331",
   "metadata": {},
   "outputs": [
    {
     "data": {
      "text/plain": [
       "[11, 11, 11, 9, 7, 5, 3]"
      ]
     },
     "execution_count": 104,
     "metadata": {},
     "output_type": "execute_result"
    }
   ],
   "source": [
    "odd"
   ]
  },
  {
   "cell_type": "markdown",
   "id": "bb52cbfe",
   "metadata": {},
   "source": [
    "# 08.제어문(if문)"
   ]
  },
  {
   "cell_type": "code",
   "execution_count": 109,
   "id": "491e1471",
   "metadata": {},
   "outputs": [
    {
     "name": "stdout",
     "output_type": "stream",
     "text": [
      "학생\n"
     ]
    }
   ],
   "source": [
    "age = 17\n",
    "\n",
    "if age < 5:\n",
    "    print(\"아이\")\n",
    "elif age < 18:\n",
    "    print(\"학생\")\n",
    "else:\n",
    "    print(\"어른\")"
   ]
  },
  {
   "cell_type": "markdown",
   "id": "29782e40",
   "metadata": {},
   "source": [
    "# 반복문(for문)"
   ]
  },
  {
   "cell_type": "code",
   "execution_count": 110,
   "id": "320cb6f6",
   "metadata": {},
   "outputs": [
    {
     "data": {
      "text/plain": [
       "['apple', 'bnana', 'chicken']"
      ]
     },
     "execution_count": 110,
     "metadata": {},
     "output_type": "execute_result"
    }
   ],
   "source": [
    "basket = ['apple', 'bnana', 'chicken']\n",
    "basket"
   ]
  },
  {
   "cell_type": "code",
   "execution_count": 111,
   "id": "bdb1e89e",
   "metadata": {},
   "outputs": [
    {
     "name": "stdout",
     "output_type": "stream",
     "text": [
      "apple\n"
     ]
    }
   ],
   "source": [
    "print(basket[0])"
   ]
  },
  {
   "cell_type": "code",
   "execution_count": 112,
   "id": "db353a2f",
   "metadata": {},
   "outputs": [
    {
     "name": "stdout",
     "output_type": "stream",
     "text": [
      "apple\n",
      "bnana\n",
      "chicken\n"
     ]
    }
   ],
   "source": [
    "for product in basket:\n",
    "    print(product)"
   ]
  },
  {
   "cell_type": "code",
   "execution_count": 116,
   "id": "c7b13e28",
   "metadata": {},
   "outputs": [
    {
     "name": "stdout",
     "output_type": "stream",
     "text": [
      "apple\n",
      "bnana\n",
      "chicken\n"
     ]
    }
   ],
   "source": [
    "product = basket[0]\n",
    "print(product)\n",
    "product = basket[1]\n",
    "print(product)\n",
    "product = basket[2]\n",
    "print(product)\n",
    "\n",
    "#위 내용을 풀어쓴 버전 > 너무 길어서 합리적이지 못한 작성법"
   ]
  },
  {
   "cell_type": "code",
   "execution_count": 118,
   "id": "fcc88e61",
   "metadata": {},
   "outputs": [
    {
     "name": "stdout",
     "output_type": "stream",
     "text": [
      "0\n",
      "1\n",
      "2\n",
      "3\n",
      "4\n",
      "bang!\n",
      "5\n",
      "6\n",
      "7\n",
      "8\n",
      "9\n",
      "complete!\n"
     ]
    }
   ],
   "source": [
    "for i in range(10):\n",
    "    if i == 5:\n",
    "        print(\"bang!\")\n",
    "        \n",
    "    print(i)\n",
    "    \n",
    "print(\"complete!\")\n",
    "    \n",
    "#반복문과 제어문을 섞어쓰는 경우, i == 변수"
   ]
  }
 ],
 "metadata": {
  "kernelspec": {
   "display_name": "Python 3",
   "language": "python",
   "name": "python3"
  },
  "language_info": {
   "codemirror_mode": {
    "name": "ipython",
    "version": 3
   },
   "file_extension": ".py",
   "mimetype": "text/x-python",
   "name": "python",
   "nbconvert_exporter": "python",
   "pygments_lexer": "ipython3",
   "version": "3.8.8"
  }
 },
 "nbformat": 4,
 "nbformat_minor": 5
}
